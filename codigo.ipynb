{
 "cells": [
  {
   "cell_type": "code",
   "execution_count": 2,
   "metadata": {},
   "outputs": [],
   "source": [
    "# Bibliotecas\n",
    "import requests\n",
    "import time\n",
    "import json\n",
    "import csv\n",
    "from deep_translator import GoogleTranslator\n",
    "from llamaapi import LlamaAPI"
   ]
  },
  {
   "cell_type": "code",
   "execution_count": null,
   "metadata": {},
   "outputs": [],
   "source": [
    "# Função para buscar dados do candidato\n",
    "def fetch_candidate_data(candidate_id):\n",
    "    url = f\"https://api.candidato.bne.com.br/api/v1/Curriculum/MinData/{candidate_id}\"\n",
    "    headers = {\n",
    "        'authority': 'api.candidato.bne.com.br',\n",
    "        'accept': 'application/json, text/plain, /',\n",
    "        'accept-language': 'pt-BR,pt;q=0.9,en-US;q=0.8,en;q=0.7',\n",
    "        'origin': 'https://www.bne.com.br',\n",
    "        'referer': 'https://www.bne.com.br/',\n",
    "        'sec-ch-ua': '\"Chromium\";v=\"112\", \"Google Chrome\";v=\"112\", \"Not:A-Brand\";v=\"99\"',\n",
    "        'sec-ch-ua-mobile': '?0',\n",
    "        'sec-ch-ua-platform': '\"Linux\"',\n",
    "        'sec-fetch-dest': 'empty',\n",
    "        'sec-fetch-mode': 'cors',\n",
    "        'sec-fetch-site': 'same-site',\n",
    "        'user-agent': 'Mozilla/5.0 (X11; Linux x86_64) AppleWebKit/537.36 (KHTML, like Gecko) Chrome/112.0.0.0 Safari/537.36'\n",
    "    }\n",
    "    try:\n",
    "        response = requests.get(url, headers=headers)\n",
    "        response.raise_for_status()  # Levanta um HTTPError para respostas ruins\n",
    "        return response.json()\n",
    "    except requests.exceptions.HTTPError as e:\n",
    "        if response.status_code == 404:\n",
    "            print(f\"Dados do candidato {candidate_id} não encontrados (404).\")\n",
    "        else:\n",
    "            print(f\"Erro ao buscar dados do candidato {candidate_id}: {e}\")\n",
    "        return None\n",
    "    except requests.exceptions.RequestException as e:\n",
    "        print(f\"Erro ao buscar dados do candidato {candidate_id}: {e}\")\n",
    "        return None\n"
   ]
  },
  {
   "cell_type": "markdown",
   "metadata": {},
   "source": [
    "### Exemlpo do JSON extrído"
   ]
  },
  {
   "cell_type": "markdown",
   "metadata": {},
   "source": [
    "{\"Idade\":33,\"Nme_Pessoa\":\"Lucas\",\"dtaNascimento\":\"0001-01-01T00:00:00+00:00\",\"Des_Sexo\":\"Masculino\",\"Des_Estado_Civil\":\"Casado(a)\",\"Des_Categoria_Habilitacao\":\"B \",\"Nme_Cidade\":\"Curitiba\",\"Sig_Estado\":\"PR\",\"Des_Bairro\":\"santo inacio\",\"Des_Funcao_Exercida\":[\"Analista de Assistência Técnica de Informática\",\"Desenvolvedor Java/VB\",\"Estagiário\"],\"Vlr_Salario\":[-1,-1,-1],\"Dta_Admissao\":[\"2012-07-06T00:00:00+00:00\",\"2011-12-14T00:00:00+00:00\",\"2011-08-06T00:00:00+00:00\"],\"Dta_Demissao\":[\"1900-01-01T00:00:00.002+00:00\",\"2012-07-06T00:00:00+00:00\",\"2011-12-14T00:00:00+00:00\"],\"Des_Atividade_empresa\":[\"Telecomunicações\",\"Telecomunicações\",\"Financeiro\"],\"Des_Atividade\":[\"-Análise e correções de Bugs sistemicos Sistema Siebel5 Oracle(CRM), Siebel 8 Oracle.\\nDesenvolvimento de JAVA.\\n-Acompanhamento de migrações destas Coreções.\\n- Suporte negócial Segmento telemcom CRM\\n-Montagem de Relátorios Automatizados JAVA &amp; PL/SQL.\",\"-Análise e correções de Bugs sistemicos Sistema Siebel5(CRM).\\nDesenvolvimento de JAVA\\n-Montagem de Relátorios Automatizados JAVA &amp; PL/SQL.\",\"Rotinas periódicas: geramento de relatórios\\nSupórte técnico \\nBanco de Dados Acess\\nDesenvolvimento de VBA para aplicações bancarias\"],\"Raz_Social\":[\"Global Village Telecom\",\"Intelly One\",\"Banco do Brasil - Superintendência PR\"],\"Des_Nivel_Idioma\":[\"Básico\",\"Intermediário\"],\"Des_Idioma\":[\"Espanhol\",\"Inglês\"],\"Des_Conhecimento\":\"Linguagem de probramação java, sql\\nhtml, css e php\\nlinux(debian lenny e ubuntu)\\nbanco de dados mysql e acess\\nsupórte técnico ao usuário\",\"id\":100,\"Des_Escolaridade\":\"Tecnólogo Completo\",\"Des_Funcao\":[\"Analista de Desenvolvimento de Sistemas\",\"Analista de Assistência Técnica de Informática\"],\"Idf_Funcao\":[6182,1152],\"Num_Periodo\":[-1,-1],\"Des_Situacao_Formacao\":[\" \",\" \"],\"Ano_Conclusao\":[2011,2010],\"Sig_Fonte\":[\" \",\" \"],\"Des_Fonte\":[\"faculdade camões\",\"Ciee PR\"],\"Des_Escolaridade_Formacao\":[\"Tecnólogo Completo\",\"Outros Cursos\"],\"Des_Curso\":[\"tecnólogo em análise e desenvolvimento de sistemas\",\"EXEL avançado\"],\"_version_\":0.0,\"Flg_VIP\":\"False\"}"
   ]
  },
  {
   "cell_type": "code",
   "execution_count": null,
   "metadata": {},
   "outputs": [],
   "source": [
    "# Caminho para o arquivo de saída dos candidatos\n",
    "output_file_path = \"candidatos.json\""
   ]
  },
  {
   "cell_type": "code",
   "execution_count": null,
   "metadata": {},
   "outputs": [],
   "source": [
    "# Buscar dados para 2000 candidatos\n",
    "candidatos = []\n",
    "for candidate_id in range(1, 2000):\n",
    "    candidate_data = fetch_candidate_data(candidate_id)\n",
    "    if candidate_data:\n",
    "        candidatos.append(candidate_data)\n",
    "    # Para evitar sobrecarregar o servidor, adicionar um delay\n",
    "    time.sleep(0.2)"
   ]
  },
  {
   "cell_type": "code",
   "execution_count": null,
   "metadata": {},
   "outputs": [],
   "source": [
    "# Salvar os dados dos candidatos em um arquivo JSON\n",
    "with open(output_file_path, \"w\", encoding=\"utf-8\") as file:\n",
    "    json.dump(candidatos, file, ensure_ascii=False, indent=4)\n",
    "\n",
    "print(f\"Dados dos candidatos foram salvos em {output_file_path}\")"
   ]
  },
  {
   "cell_type": "code",
   "execution_count": null,
   "metadata": {},
   "outputs": [],
   "source": [
    "# Inicializa o tradutor\n",
    "translator = GoogleTranslator(source='auto', target='pt')"
   ]
  },
  {
   "cell_type": "code",
   "execution_count": null,
   "metadata": {},
   "outputs": [],
   "source": [
    "# Inicializa o SDK do Llama\n",
    "llama = LlamaAPI(\"************************************************** ***********************\")"
   ]
  },
  {
   "cell_type": "code",
   "execution_count": null,
   "metadata": {},
   "outputs": [],
   "source": [
    "# Função para verificar se o candidato atende aos critérios\n",
    "def verificar_criterios(curriculo):\n",
    "    idade = curriculo.get('Idade', 0)\n",
    "    escolaridade = curriculo.get('Des_Escolaridade', '')\n",
    "    atividades = \" \".join(curriculo.get('Des_Atividade', []))\n",
    "    cursos = \" \".join(curriculo.get('Des_Curso', []))\n",
    "    \n",
    "    idade_adequada = 25 <= idade <= 40\n",
    "    escolaridade_adequada = escolaridade.lower() == \"superior completo\"\n",
    "    experiencia_adequada = any(keyword in atividades.lower() for keyword in [\"administração\", \"financeiro\"])\n",
    "    \n",
    "    return idade_adequada, escolaridade_adequada, experiencia_adequada"
   ]
  },
  {
   "cell_type": "code",
   "execution_count": null,
   "metadata": {},
   "outputs": [],
   "source": [
    "# Função para criar o prompt e analisar o currículo\n",
    "def analisar_curriculo(curriculo):\n",
    "    idade = curriculo.get('Idade', 0)\n",
    "    escolaridade = curriculo.get('Des_Escolaridade', '')\n",
    "    atividades = \" \".join(curriculo.get('Des_Atividade', []))\n",
    "    cursos = \" \".join(curriculo.get('Des_Curso', []))\n",
    "    \n",
    "    prompt = (\n",
    "        f\"Idade: {idade}\\n\"\n",
    "        f\"Escolaridade: {escolaridade}\\n\"\n",
    "        f\"Atividades: {atividades}\\n\"\n",
    "        f\"Cursos: {cursos}\\n\\n\"\n",
    "        f\"O candidato tem entre 25 e 40 anos, possui curso superior completo e experiência ligada a administração ou financeiro?\"\n",
    "    )\n",
    "    \n",
    "    api_request_json = {\n",
    "        \"messages\": [\n",
    "            {\n",
    "                \"role\": \"user\",\n",
    "                \"content\": prompt\n",
    "            }\n",
    "        ],\n",
    "        \"stream\": False,\n",
    "        \"max_token\": 500,\n",
    "        \"temperature\": 0.1,\n",
    "        \"top_p\": 1.0,\n",
    "        \"frequency_penalty\": 1.0\n",
    "    }\n",
    "\n",
    "    try:\n",
    "        response = llama.run(api_request_json)\n",
    "        if response.status_code != 200:\n",
    "            print(f\"Erro na resposta da API Llama: {response.status_code} - {response.text}\")\n",
    "            return \"Erro na avaliação\"\n",
    "        content = response.json().get('choices', [{}])[0].get('message', {}).get('content', '')\n",
    "        if not content:\n",
    "            print(\"Conteúdo da resposta da API Llama está vazio.\")\n",
    "            return \"Erro na avaliação\"\n",
    "        traducao = translator.translate(content)\n",
    "        return traducao\n",
    "    except Exception as e:\n",
    "        print(f\"Erro ao analisar currículo com Llama: {e}\")\n",
    "        return \"Erro na avaliação\""
   ]
  },
  {
   "cell_type": "code",
   "execution_count": null,
   "metadata": {},
   "outputs": [],
   "source": [
    "# Analisar currículos e exportar resultados para CSV\n",
    "resultados = []\n",
    "with open(output_file_path, \"r\", encoding=\"utf-8\") as file:\n",
    "    candidatos = json.load(file)\n",
    "    for curriculo in candidatos:\n",
    "        idade_adequada, escolaridade_adequada, experiencia_adequada = verificar_criterios(curriculo)\n",
    "        status = \"Apto\" if (idade_adequada and escolaridade_adequada and experiencia_adequada) else \"Inapto\"\n",
    "        avaliacao_llama = analisar_curriculo(curriculo)\n",
    "        resultado = {\n",
    "            'Nome': curriculo.get('Nme_Pessoa', ''),\n",
    "            'Idade': curriculo.get('Idade', 0),\n",
    "            'Escolaridade': curriculo.get('Des_Escolaridade', ''),\n",
    "            'Atividades': \" \".join(curriculo.get('Des_Atividade', [])),\n",
    "            'Cursos': \" \".join(curriculo.get('Des_Curso', [])),\n",
    "            'Status': status,\n",
    "            'Requisitos_Idade': 'Atende' if idade_adequada else 'Não atende',\n",
    "            'Requisitos_Escolaridade': 'Atende' if escolaridade_adequada else 'Não atende',\n",
    "            'Requisitos_Experiencia': 'Atende' if experiencia_adequada else 'Não atende',\n",
    "            'Avaliacao_Llama': avaliacao_llama\n",
    "        }\n",
    "        resultados.append(resultado)"
   ]
  },
  {
   "cell_type": "code",
   "execution_count": null,
   "metadata": {},
   "outputs": [],
   "source": [
    "# Salvar os resultados em um arquivo CSV separado por ponto e vírgula\n",
    "csv_file_path = \"resultados_analise.csv\"\n",
    "with open(csv_file_path, 'w', newline='', encoding='utf-8-sig') as csvfile:\n",
    "    fieldnames = ['Nome', 'Idade', 'Escolaridade', 'Atividades', 'Cursos', 'Status', 'Requisitos_Idade', 'Requisitos_Escolaridade', 'Requisitos_Experiencia', 'Avaliacao_Llama']\n",
    "    writer = csv.DictWriter(csvfile, fieldnames=fieldnames, delimiter=';', quoting=csv.QUOTE_MINIMAL, escapechar='\\\\')\n",
    "    \n",
    "    writer.writeheader()\n",
    "    for resultado in resultados:\n",
    "        writer.writerow(resultado)\n",
    "\n",
    "print(f\"Análise dos currículos concluída. Resultados salvos em {csv_file_path}\")"
   ]
  }
 ],
 "metadata": {
  "kernelspec": {
   "display_name": "Python 3",
   "language": "python",
   "name": "python3"
  },
  "language_info": {
   "codemirror_mode": {
    "name": "ipython",
    "version": 3
   },
   "file_extension": ".py",
   "mimetype": "text/x-python",
   "name": "python",
   "nbconvert_exporter": "python",
   "pygments_lexer": "ipython3",
   "version": "3.12.0"
  }
 },
 "nbformat": 4,
 "nbformat_minor": 2
}
